{
  "nbformat": 4,
  "nbformat_minor": 0,
  "metadata": {
    "colab": {
      "name": "Proyek Membuat Model Machine Learning dengan Data Time Series.ipynb",
      "provenance": [],
      "collapsed_sections": [],
      "authorship_tag": "ABX9TyOMSo22Z84imXLomzsC5JT7",
      "include_colab_link": true
    },
    "kernelspec": {
      "name": "python3",
      "display_name": "Python 3"
    },
    "language_info": {
      "name": "python"
    }
  },
  "cells": [
    {
      "cell_type": "markdown",
      "metadata": {
        "id": "view-in-github",
        "colab_type": "text"
      },
      "source": [
        "<a href=\"https://colab.research.google.com/github/iwanradjasa/Time-Series/blob/main/Proyek_Membuat_Model_Machine_Learning_dengan_Data_Time_Series.ipynb\" target=\"_parent\"><img src=\"https://colab.research.google.com/assets/colab-badge.svg\" alt=\"Open In Colab\"/></a>"
      ]
    },
    {
      "cell_type": "code",
      "metadata": {
        "id": "z1nUmEuZ3_P1",
        "colab": {
          "base_uri": "https://localhost:8080/",
          "height": 549
        },
        "outputId": "a9b2f7b0-42ba-4663-c1fa-87d4ba3c42fb"
      },
      "source": [
        "# load dataset\n",
        "import pandas as pd\n",
        "df = pd.read_csv('testset.csv')\n",
        "df.head(10)"
      ],
      "execution_count": null,
      "outputs": [
        {
          "output_type": "execute_result",
          "data": {
            "text/html": [
              "<div>\n",
              "<style scoped>\n",
              "    .dataframe tbody tr th:only-of-type {\n",
              "        vertical-align: middle;\n",
              "    }\n",
              "\n",
              "    .dataframe tbody tr th {\n",
              "        vertical-align: top;\n",
              "    }\n",
              "\n",
              "    .dataframe thead th {\n",
              "        text-align: right;\n",
              "    }\n",
              "</style>\n",
              "<table border=\"1\" class=\"dataframe\">\n",
              "  <thead>\n",
              "    <tr style=\"text-align: right;\">\n",
              "      <th></th>\n",
              "      <th>datetime_utc</th>\n",
              "      <th>_conds</th>\n",
              "      <th>_dewptm</th>\n",
              "      <th>_fog</th>\n",
              "      <th>_hail</th>\n",
              "      <th>_heatindexm</th>\n",
              "      <th>_hum</th>\n",
              "      <th>_precipm</th>\n",
              "      <th>_pressurem</th>\n",
              "      <th>_rain</th>\n",
              "      <th>_snow</th>\n",
              "      <th>_tempm</th>\n",
              "      <th>_thunder</th>\n",
              "      <th>_tornado</th>\n",
              "      <th>_vism</th>\n",
              "      <th>_wdird</th>\n",
              "      <th>_wdire</th>\n",
              "      <th>_wgustm</th>\n",
              "      <th>_windchillm</th>\n",
              "      <th>_wspdm</th>\n",
              "    </tr>\n",
              "  </thead>\n",
              "  <tbody>\n",
              "    <tr>\n",
              "      <th>0</th>\n",
              "      <td>19961101-11:00</td>\n",
              "      <td>Smoke</td>\n",
              "      <td>9.0</td>\n",
              "      <td>0</td>\n",
              "      <td>0</td>\n",
              "      <td>NaN</td>\n",
              "      <td>27.0</td>\n",
              "      <td>NaN</td>\n",
              "      <td>1010.0</td>\n",
              "      <td>0</td>\n",
              "      <td>0</td>\n",
              "      <td>30.0</td>\n",
              "      <td>0</td>\n",
              "      <td>0</td>\n",
              "      <td>5.0</td>\n",
              "      <td>280.0</td>\n",
              "      <td>West</td>\n",
              "      <td>NaN</td>\n",
              "      <td>NaN</td>\n",
              "      <td>7.4</td>\n",
              "    </tr>\n",
              "    <tr>\n",
              "      <th>1</th>\n",
              "      <td>19961101-12:00</td>\n",
              "      <td>Smoke</td>\n",
              "      <td>10.0</td>\n",
              "      <td>0</td>\n",
              "      <td>0</td>\n",
              "      <td>NaN</td>\n",
              "      <td>32.0</td>\n",
              "      <td>NaN</td>\n",
              "      <td>-9999.0</td>\n",
              "      <td>0</td>\n",
              "      <td>0</td>\n",
              "      <td>28.0</td>\n",
              "      <td>0</td>\n",
              "      <td>0</td>\n",
              "      <td>NaN</td>\n",
              "      <td>0.0</td>\n",
              "      <td>North</td>\n",
              "      <td>NaN</td>\n",
              "      <td>NaN</td>\n",
              "      <td>NaN</td>\n",
              "    </tr>\n",
              "    <tr>\n",
              "      <th>2</th>\n",
              "      <td>19961101-13:00</td>\n",
              "      <td>Smoke</td>\n",
              "      <td>11.0</td>\n",
              "      <td>0</td>\n",
              "      <td>0</td>\n",
              "      <td>NaN</td>\n",
              "      <td>44.0</td>\n",
              "      <td>NaN</td>\n",
              "      <td>-9999.0</td>\n",
              "      <td>0</td>\n",
              "      <td>0</td>\n",
              "      <td>24.0</td>\n",
              "      <td>0</td>\n",
              "      <td>0</td>\n",
              "      <td>NaN</td>\n",
              "      <td>0.0</td>\n",
              "      <td>North</td>\n",
              "      <td>NaN</td>\n",
              "      <td>NaN</td>\n",
              "      <td>NaN</td>\n",
              "    </tr>\n",
              "    <tr>\n",
              "      <th>3</th>\n",
              "      <td>19961101-14:00</td>\n",
              "      <td>Smoke</td>\n",
              "      <td>10.0</td>\n",
              "      <td>0</td>\n",
              "      <td>0</td>\n",
              "      <td>NaN</td>\n",
              "      <td>41.0</td>\n",
              "      <td>NaN</td>\n",
              "      <td>1010.0</td>\n",
              "      <td>0</td>\n",
              "      <td>0</td>\n",
              "      <td>24.0</td>\n",
              "      <td>0</td>\n",
              "      <td>0</td>\n",
              "      <td>2.0</td>\n",
              "      <td>0.0</td>\n",
              "      <td>North</td>\n",
              "      <td>NaN</td>\n",
              "      <td>NaN</td>\n",
              "      <td>NaN</td>\n",
              "    </tr>\n",
              "    <tr>\n",
              "      <th>4</th>\n",
              "      <td>19961101-16:00</td>\n",
              "      <td>Smoke</td>\n",
              "      <td>11.0</td>\n",
              "      <td>0</td>\n",
              "      <td>0</td>\n",
              "      <td>NaN</td>\n",
              "      <td>47.0</td>\n",
              "      <td>NaN</td>\n",
              "      <td>1011.0</td>\n",
              "      <td>0</td>\n",
              "      <td>0</td>\n",
              "      <td>23.0</td>\n",
              "      <td>0</td>\n",
              "      <td>0</td>\n",
              "      <td>1.2</td>\n",
              "      <td>0.0</td>\n",
              "      <td>North</td>\n",
              "      <td>NaN</td>\n",
              "      <td>NaN</td>\n",
              "      <td>0.0</td>\n",
              "    </tr>\n",
              "    <tr>\n",
              "      <th>5</th>\n",
              "      <td>19961101-17:00</td>\n",
              "      <td>Smoke</td>\n",
              "      <td>12.0</td>\n",
              "      <td>0</td>\n",
              "      <td>0</td>\n",
              "      <td>NaN</td>\n",
              "      <td>56.0</td>\n",
              "      <td>NaN</td>\n",
              "      <td>1011.0</td>\n",
              "      <td>0</td>\n",
              "      <td>0</td>\n",
              "      <td>21.0</td>\n",
              "      <td>0</td>\n",
              "      <td>0</td>\n",
              "      <td>NaN</td>\n",
              "      <td>0.0</td>\n",
              "      <td>North</td>\n",
              "      <td>NaN</td>\n",
              "      <td>NaN</td>\n",
              "      <td>NaN</td>\n",
              "    </tr>\n",
              "    <tr>\n",
              "      <th>6</th>\n",
              "      <td>19961101-18:00</td>\n",
              "      <td>Smoke</td>\n",
              "      <td>13.0</td>\n",
              "      <td>0</td>\n",
              "      <td>0</td>\n",
              "      <td>NaN</td>\n",
              "      <td>60.0</td>\n",
              "      <td>NaN</td>\n",
              "      <td>1010.0</td>\n",
              "      <td>0</td>\n",
              "      <td>0</td>\n",
              "      <td>21.0</td>\n",
              "      <td>0</td>\n",
              "      <td>0</td>\n",
              "      <td>0.8</td>\n",
              "      <td>0.0</td>\n",
              "      <td>North</td>\n",
              "      <td>NaN</td>\n",
              "      <td>NaN</td>\n",
              "      <td>0.0</td>\n",
              "    </tr>\n",
              "    <tr>\n",
              "      <th>7</th>\n",
              "      <td>19961101-19:00</td>\n",
              "      <td>Smoke</td>\n",
              "      <td>13.0</td>\n",
              "      <td>0</td>\n",
              "      <td>0</td>\n",
              "      <td>NaN</td>\n",
              "      <td>60.0</td>\n",
              "      <td>NaN</td>\n",
              "      <td>-9999.0</td>\n",
              "      <td>0</td>\n",
              "      <td>0</td>\n",
              "      <td>21.0</td>\n",
              "      <td>0</td>\n",
              "      <td>0</td>\n",
              "      <td>NaN</td>\n",
              "      <td>0.0</td>\n",
              "      <td>North</td>\n",
              "      <td>NaN</td>\n",
              "      <td>NaN</td>\n",
              "      <td>NaN</td>\n",
              "    </tr>\n",
              "    <tr>\n",
              "      <th>8</th>\n",
              "      <td>19961101-20:00</td>\n",
              "      <td>Smoke</td>\n",
              "      <td>13.0</td>\n",
              "      <td>0</td>\n",
              "      <td>0</td>\n",
              "      <td>NaN</td>\n",
              "      <td>68.0</td>\n",
              "      <td>NaN</td>\n",
              "      <td>-9999.0</td>\n",
              "      <td>0</td>\n",
              "      <td>0</td>\n",
              "      <td>19.0</td>\n",
              "      <td>0</td>\n",
              "      <td>0</td>\n",
              "      <td>NaN</td>\n",
              "      <td>0.0</td>\n",
              "      <td>North</td>\n",
              "      <td>NaN</td>\n",
              "      <td>NaN</td>\n",
              "      <td>NaN</td>\n",
              "    </tr>\n",
              "    <tr>\n",
              "      <th>9</th>\n",
              "      <td>19961101-21:00</td>\n",
              "      <td>Smoke</td>\n",
              "      <td>13.0</td>\n",
              "      <td>0</td>\n",
              "      <td>0</td>\n",
              "      <td>NaN</td>\n",
              "      <td>68.0</td>\n",
              "      <td>NaN</td>\n",
              "      <td>1010.0</td>\n",
              "      <td>0</td>\n",
              "      <td>0</td>\n",
              "      <td>19.0</td>\n",
              "      <td>0</td>\n",
              "      <td>0</td>\n",
              "      <td>NaN</td>\n",
              "      <td>0.0</td>\n",
              "      <td>North</td>\n",
              "      <td>NaN</td>\n",
              "      <td>NaN</td>\n",
              "      <td>NaN</td>\n",
              "    </tr>\n",
              "  </tbody>\n",
              "</table>\n",
              "</div>"
            ],
            "text/plain": [
              "     datetime_utc  _conds   _dewptm  ...   _wgustm   _windchillm   _wspdm\n",
              "0  19961101-11:00   Smoke       9.0  ...       NaN           NaN      7.4\n",
              "1  19961101-12:00   Smoke      10.0  ...       NaN           NaN      NaN\n",
              "2  19961101-13:00   Smoke      11.0  ...       NaN           NaN      NaN\n",
              "3  19961101-14:00   Smoke      10.0  ...       NaN           NaN      NaN\n",
              "4  19961101-16:00   Smoke      11.0  ...       NaN           NaN      0.0\n",
              "5  19961101-17:00   Smoke      12.0  ...       NaN           NaN      NaN\n",
              "6  19961101-18:00   Smoke      13.0  ...       NaN           NaN      0.0\n",
              "7  19961101-19:00   Smoke      13.0  ...       NaN           NaN      NaN\n",
              "8  19961101-20:00   Smoke      13.0  ...       NaN           NaN      NaN\n",
              "9  19961101-21:00   Smoke      13.0  ...       NaN           NaN      NaN\n",
              "\n",
              "[10 rows x 20 columns]"
            ]
          },
          "metadata": {
            "tags": []
          },
          "execution_count": 3
        }
      ]
    },
    {
      "cell_type": "code",
      "metadata": {
        "colab": {
          "base_uri": "https://localhost:8080/"
        },
        "id": "M8Hzuv-d50At",
        "outputId": "a71b7bab-8eae-40c2-d6d9-586fdd83a6b2"
      },
      "source": [
        "# total data\n",
        "df.shape"
      ],
      "execution_count": null,
      "outputs": [
        {
          "output_type": "execute_result",
          "data": {
            "text/plain": [
              "(100990, 20)"
            ]
          },
          "metadata": {
            "tags": []
          },
          "execution_count": 4
        }
      ]
    },
    {
      "cell_type": "code",
      "metadata": {
        "colab": {
          "base_uri": "https://localhost:8080/"
        },
        "id": "SiR8Afup52zx",
        "outputId": "99061337-502e-42de-a451-df8b21714bf7"
      },
      "source": [
        "# data info\n",
        "df.info()"
      ],
      "execution_count": null,
      "outputs": [
        {
          "output_type": "stream",
          "text": [
            "<class 'pandas.core.frame.DataFrame'>\n",
            "RangeIndex: 100990 entries, 0 to 100989\n",
            "Data columns (total 20 columns):\n",
            " #   Column        Non-Null Count   Dtype  \n",
            "---  ------        --------------   -----  \n",
            " 0   datetime_utc  100990 non-null  object \n",
            " 1    _conds       100918 non-null  object \n",
            " 2    _dewptm      100369 non-null  float64\n",
            " 3    _fog         100990 non-null  int64  \n",
            " 4    _hail        100990 non-null  int64  \n",
            " 5    _heatindexm  29155 non-null   float64\n",
            " 6    _hum         100233 non-null  float64\n",
            " 7    _precipm     0 non-null       float64\n",
            " 8    _pressurem   100758 non-null  float64\n",
            " 9    _rain        100990 non-null  int64  \n",
            " 10   _snow        100990 non-null  int64  \n",
            " 11   _tempm       100317 non-null  float64\n",
            " 12   _thunder     100990 non-null  int64  \n",
            " 13   _tornado     100990 non-null  int64  \n",
            " 14   _vism        96562 non-null   float64\n",
            " 15   _wdird       86235 non-null   float64\n",
            " 16   _wdire       86235 non-null   object \n",
            " 17   _wgustm      1072 non-null    float64\n",
            " 18   _windchillm  579 non-null     float64\n",
            " 19   _wspdm       98632 non-null   float64\n",
            "dtypes: float64(11), int64(6), object(3)\n",
            "memory usage: 15.4+ MB\n"
          ],
          "name": "stdout"
        }
      ]
    },
    {
      "cell_type": "code",
      "metadata": {
        "colab": {
          "base_uri": "https://localhost:8080/"
        },
        "id": "SO-qR0uF54hA",
        "outputId": "a079bf89-8ec9-4bf9-ebf4-3c86c8e2b090"
      },
      "source": [
        "# null check\n",
        "df.isnull().sum()"
      ],
      "execution_count": null,
      "outputs": [
        {
          "output_type": "execute_result",
          "data": {
            "text/plain": [
              "datetime_utc         0\n",
              " _conds             72\n",
              " _dewptm           621\n",
              " _fog                0\n",
              " _hail               0\n",
              " _heatindexm     71835\n",
              " _hum              757\n",
              " _precipm       100990\n",
              " _pressurem        232\n",
              " _rain               0\n",
              " _snow               0\n",
              " _tempm            673\n",
              " _thunder            0\n",
              " _tornado            0\n",
              " _vism            4428\n",
              " _wdird          14755\n",
              " _wdire          14755\n",
              " _wgustm         99918\n",
              " _windchillm    100411\n",
              " _wspdm           2358\n",
              "dtype: int64"
            ]
          },
          "metadata": {
            "tags": []
          },
          "execution_count": 6
        }
      ]
    },
    {
      "cell_type": "code",
      "metadata": {
        "colab": {
          "base_uri": "https://localhost:8080/",
          "height": 204
        },
        "id": "2wgBrm_C56mh",
        "outputId": "f30fb95c-da1d-4e33-ea63-ad742ecf6ccd"
      },
      "source": [
        "df['datetime_utc']=pd.to_datetime(df['datetime_utc'])\n",
        "df['datetime_utc'].head()\n",
        "df[' _tempm'].fillna(df[' _tempm'].mean(), inplace=True) # we will fill the null row\n",
        "df = df[['datetime_utc',' _tempm' ]]\n",
        "df.head()"
      ],
      "execution_count": null,
      "outputs": [
        {
          "output_type": "execute_result",
          "data": {
            "text/html": [
              "<div>\n",
              "<style scoped>\n",
              "    .dataframe tbody tr th:only-of-type {\n",
              "        vertical-align: middle;\n",
              "    }\n",
              "\n",
              "    .dataframe tbody tr th {\n",
              "        vertical-align: top;\n",
              "    }\n",
              "\n",
              "    .dataframe thead th {\n",
              "        text-align: right;\n",
              "    }\n",
              "</style>\n",
              "<table border=\"1\" class=\"dataframe\">\n",
              "  <thead>\n",
              "    <tr style=\"text-align: right;\">\n",
              "      <th></th>\n",
              "      <th>datetime_utc</th>\n",
              "      <th>_tempm</th>\n",
              "    </tr>\n",
              "  </thead>\n",
              "  <tbody>\n",
              "    <tr>\n",
              "      <th>0</th>\n",
              "      <td>1996-11-01 11:00:00</td>\n",
              "      <td>30.0</td>\n",
              "    </tr>\n",
              "    <tr>\n",
              "      <th>1</th>\n",
              "      <td>1996-11-01 12:00:00</td>\n",
              "      <td>28.0</td>\n",
              "    </tr>\n",
              "    <tr>\n",
              "      <th>2</th>\n",
              "      <td>1996-11-01 13:00:00</td>\n",
              "      <td>24.0</td>\n",
              "    </tr>\n",
              "    <tr>\n",
              "      <th>3</th>\n",
              "      <td>1996-11-01 14:00:00</td>\n",
              "      <td>24.0</td>\n",
              "    </tr>\n",
              "    <tr>\n",
              "      <th>4</th>\n",
              "      <td>1996-11-01 16:00:00</td>\n",
              "      <td>23.0</td>\n",
              "    </tr>\n",
              "  </tbody>\n",
              "</table>\n",
              "</div>"
            ],
            "text/plain": [
              "         datetime_utc   _tempm\n",
              "0 1996-11-01 11:00:00     30.0\n",
              "1 1996-11-01 12:00:00     28.0\n",
              "2 1996-11-01 13:00:00     24.0\n",
              "3 1996-11-01 14:00:00     24.0\n",
              "4 1996-11-01 16:00:00     23.0"
            ]
          },
          "metadata": {
            "tags": []
          },
          "execution_count": 7
        }
      ]
    },
    {
      "cell_type": "code",
      "metadata": {
        "colab": {
          "base_uri": "https://localhost:8080/"
        },
        "id": "l3XhDYr95-aQ",
        "outputId": "210371ee-b609-46f6-c1c5-7e699d0854d8"
      },
      "source": [
        "df.info()"
      ],
      "execution_count": null,
      "outputs": [
        {
          "output_type": "stream",
          "text": [
            "<class 'pandas.core.frame.DataFrame'>\n",
            "RangeIndex: 100990 entries, 0 to 100989\n",
            "Data columns (total 2 columns):\n",
            " #   Column        Non-Null Count   Dtype         \n",
            "---  ------        --------------   -----         \n",
            " 0   datetime_utc  100990 non-null  datetime64[ns]\n",
            " 1    _tempm       100990 non-null  float64       \n",
            "dtypes: datetime64[ns](1), float64(1)\n",
            "memory usage: 1.5 MB\n"
          ],
          "name": "stdout"
        }
      ]
    },
    {
      "cell_type": "code",
      "metadata": {
        "colab": {
          "base_uri": "https://localhost:8080/",
          "height": 235
        },
        "id": "CGfoYIIK6AAL",
        "outputId": "0bedd2cc-f0f9-4d8b-8c6f-f318e5674897"
      },
      "source": [
        "delhi=df[['datetime_utc',' _tempm']].copy()\n",
        "delhi['just_date'] = delhi['datetime_utc'].dt.date\n",
        "\n",
        "delhifinal=delhi.drop('datetime_utc',axis=1)\n",
        "delhifinal.set_index('just_date', inplace= True)\n",
        "delhifinal.head()"
      ],
      "execution_count": null,
      "outputs": [
        {
          "output_type": "execute_result",
          "data": {
            "text/html": [
              "<div>\n",
              "<style scoped>\n",
              "    .dataframe tbody tr th:only-of-type {\n",
              "        vertical-align: middle;\n",
              "    }\n",
              "\n",
              "    .dataframe tbody tr th {\n",
              "        vertical-align: top;\n",
              "    }\n",
              "\n",
              "    .dataframe thead th {\n",
              "        text-align: right;\n",
              "    }\n",
              "</style>\n",
              "<table border=\"1\" class=\"dataframe\">\n",
              "  <thead>\n",
              "    <tr style=\"text-align: right;\">\n",
              "      <th></th>\n",
              "      <th>_tempm</th>\n",
              "    </tr>\n",
              "    <tr>\n",
              "      <th>just_date</th>\n",
              "      <th></th>\n",
              "    </tr>\n",
              "  </thead>\n",
              "  <tbody>\n",
              "    <tr>\n",
              "      <th>1996-11-01</th>\n",
              "      <td>30.0</td>\n",
              "    </tr>\n",
              "    <tr>\n",
              "      <th>1996-11-01</th>\n",
              "      <td>28.0</td>\n",
              "    </tr>\n",
              "    <tr>\n",
              "      <th>1996-11-01</th>\n",
              "      <td>24.0</td>\n",
              "    </tr>\n",
              "    <tr>\n",
              "      <th>1996-11-01</th>\n",
              "      <td>24.0</td>\n",
              "    </tr>\n",
              "    <tr>\n",
              "      <th>1996-11-01</th>\n",
              "      <td>23.0</td>\n",
              "    </tr>\n",
              "  </tbody>\n",
              "</table>\n",
              "</div>"
            ],
            "text/plain": [
              "             _tempm\n",
              "just_date          \n",
              "1996-11-01     30.0\n",
              "1996-11-01     28.0\n",
              "1996-11-01     24.0\n",
              "1996-11-01     24.0\n",
              "1996-11-01     23.0"
            ]
          },
          "metadata": {
            "tags": []
          },
          "execution_count": 9
        }
      ]
    },
    {
      "cell_type": "code",
      "metadata": {
        "colab": {
          "base_uri": "https://localhost:8080/",
          "height": 419
        },
        "id": "8-N-8g7e6B9m",
        "outputId": "bc37c756-3c34-4427-979b-f288c95e2ab3"
      },
      "source": [
        "import matplotlib.pyplot as plt\n",
        "\n",
        "plt.figure(figsize=(20,8))\n",
        "plt.plot(delhifinal)\n",
        "plt.title('Delhi Weather')\n",
        "plt.xlabel('Date')\n",
        "plt.ylabel('temperature')\n",
        "plt.show()"
      ],
      "execution_count": null,
      "outputs": [
        {
          "output_type": "display_data",
          "data": {
            "image/png": "[encoded data removed]",
            "text/plain": [
              "<Figure size 1440x576 with 1 Axes>"
            ]
          },
          "metadata": {
            "tags": [],
            "needs_background": "light"
          }
        }
      ]
    },
    {
      "cell_type": "code",
      "metadata": {
        "id": "DVKOgnI06Dv7"
      },
      "source": [
        "# get data values\n",
        "date = df['datetime_utc'].values\n",
        "temp = df[' _tempm'].values"
      ],
      "execution_count": null,
      "outputs": []
    },
    {
      "cell_type": "code",
      "metadata": {
        "id": "O3IbNBmd6EfO"
      },
      "source": [
        "import tensorflow as tf\n",
        "\n",
        "def windowed_dataset(series, window_size, batch_size, shuffle_buffer):\n",
        "    series = tf.expand_dims(series, axis=-1)\n",
        "    ds = tf.data.Dataset.from_tensor_slices(series)\n",
        "    ds = ds.window(window_size + 1, shift=1, drop_remainder=True)\n",
        "    ds = ds.flat_map(lambda w: w.batch(window_size + 1))\n",
        "    ds = ds.shuffle(shuffle_buffer)\n",
        "    ds = ds.map(lambda w: (w[:-1], w[-1:]))\n",
        "    return ds.batch(batch_size).prefetch(1)"
      ],
      "execution_count": null,
      "outputs": []
    },
    {
      "cell_type": "code",
      "metadata": {
        "colab": {
          "base_uri": "https://localhost:8080/"
        },
        "id": "9cy9VgED6Hrt",
        "outputId": "9cf94780-6ded-4477-a6c3-df94fce672fc"
      },
      "source": [
        "from sklearn.model_selection import train_test_split\n",
        "\n",
        "x_train, x_test, y_train, y_test = train_test_split(temp, date, test_size = 0.2, random_state = 0 , shuffle=False)\n",
        "print(len(x_train), len(x_test))"
      ],
      "execution_count": null,
      "outputs": [
        {
          "output_type": "stream",
          "text": [
            "80792 20198\n"
          ],
          "name": "stdout"
        }
      ]
    },
    {
      "cell_type": "code",
      "metadata": {
        "colab": {
          "base_uri": "https://localhost:8080/"
        },
        "id": "uOhDD2jk6LCN",
        "outputId": "4e1058a6-7311-48b5-f0a0-8f7811605be6"
      },
      "source": [
        "# model\n",
        "from keras.layers import Dense, LSTM\n",
        "\n",
        "data_x_train = windowed_dataset(x_train, window_size=60, batch_size=100, shuffle_buffer=5000)\n",
        "data_x_test = windowed_dataset(x_test, window_size=60, batch_size=100, shuffle_buffer=5000)\n",
        "\n",
        "model = tf.keras.models.Sequential([\n",
        "  tf.keras.layers.Conv1D(filters=32, kernel_size=5,\n",
        "                      strides=1, padding=\"causal\",\n",
        "                      activation=\"relu\",\n",
        "                      input_shape=[None, 1]),\n",
        "  tf.keras.layers.LSTM(64, return_sequences=True),\n",
        "  tf.keras.layers.LSTM(64, return_sequences=True),\n",
        "  tf.keras.layers.Dense(30, activation=\"relu\"),\n",
        "  tf.keras.layers.Dense(10, activation=\"relu\"),\n",
        "  tf.keras.layers.Dense(1),\n",
        "  tf.keras.layers.Lambda(lambda x: x * 400)\n",
        "])\n",
        "\n",
        "lr_schedule = tf.keras.callbacks.LearningRateScheduler(\n",
        "    lambda epoch: 1e-8 * 10**(epoch / 20))\n",
        "optimizer = tf.keras.optimizers.SGD(lr=1e-8, momentum=0.9)\n",
        "model.compile(loss=tf.keras.losses.Huber(),\n",
        "              optimizer=optimizer,\n",
        "              metrics=[\"mae\"])"
      ],
      "execution_count": null,
      "outputs": [
        {
          "output_type": "stream",
          "text": [
            "/usr/local/lib/python3.7/dist-packages/tensorflow/python/keras/optimizer_v2/optimizer_v2.py:375: UserWarning: The `lr` argument is deprecated, use `learning_rate` instead.\n",
            "  \"The `lr` argument is deprecated, use `learning_rate` instead.\")\n"
          ],
          "name": "stderr"
        }
      ]
    },
    {
      "cell_type": "code",
      "metadata": {
        "colab": {
          "base_uri": "https://localhost:8080/"
        },
        "id": "sY9CCipi6Mxe",
        "outputId": "8caf9b73-35be-4007-b602-4e05e66fb422"
      },
      "source": [
        "max = df[' _tempm'].max()\n",
        "print('Max value : ' )\n",
        "print(max)"
      ],
      "execution_count": null,
      "outputs": [
        {
          "output_type": "stream",
          "text": [
            "Max value : \n",
            "90.0\n"
          ],
          "name": "stdout"
        }
      ]
    },
    {
      "cell_type": "code",
      "metadata": {
        "colab": {
          "base_uri": "https://localhost:8080/"
        },
        "id": "fV3oDUhB6ONN",
        "outputId": "b34a0fca-6056-4179-bd27-e98704889b36"
      },
      "source": [
        "min = df[' _tempm'].min()\n",
        "print('Min Value : ')\n",
        "print(min)"
      ],
      "execution_count": null,
      "outputs": [
        {
          "output_type": "stream",
          "text": [
            "Min Value : \n",
            "1.0\n"
          ],
          "name": "stdout"
        }
      ]
    },
    {
      "cell_type": "code",
      "metadata": {
        "colab": {
          "base_uri": "https://localhost:8080/"
        },
        "id": "e6wU_APS6Pxz",
        "outputId": "e6da9184-b71b-4e50-94de-8aefe7db857d"
      },
      "source": [
        "x = (90.0 - 1.0) * (10 / 100)\n",
        "print(x)"
      ],
      "execution_count": null,
      "outputs": [
        {
          "output_type": "stream",
          "text": [
            "8.9\n"
          ],
          "name": "stdout"
        }
      ]
    },
    {
      "cell_type": "code",
      "metadata": {
        "id": "Dmv-8jLX6RZf"
      },
      "source": [
        "# callback\n",
        "class myCallback(tf.keras.callbacks.Callback):\n",
        "  def on_epoch_end(self, epoch, logs={}):\n",
        "    if(logs.get('mae')< x):\n",
        "      self.model.stop_training = True\n",
        "      print(\"\\nMAE of the model < 10% of data scale\")\n",
        "callbacks = myCallback()"
      ],
      "execution_count": null,
      "outputs": []
    },
    {
      "cell_type": "code",
      "metadata": {
        "colab": {
          "base_uri": "https://localhost:8080/"
        },
        "id": "vhb7zUP_6Uhn",
        "outputId": "7bde70de-860b-455e-b334-ee7a2087bace"
      },
      "source": [
        "tf.keras.backend.set_floatx('float64')\n",
        "history = model.fit(data_x_train ,epochs=500, validation_data=data_x_test, callbacks=[callbacks])"
      ],
      "execution_count": null,
      "outputs": [
        {
          "output_type": "stream",
          "text": [
            "Epoch 1/500\n",
            "808/808 [==============================] - 105s 124ms/step - loss: 9.9413 - mae: 10.4264 - val_loss: 5.0488 - val_mae: 5.5283\n",
            "Epoch 2/500\n",
            "808/808 [==============================] - 100s 123ms/step - loss: 4.8316 - mae: 5.3100 - val_loss: 4.6810 - val_mae: 5.1594\n",
            "\n",
            "MAE of the model < 10% of data scale\n"
          ],
          "name": "stdout"
        }
      ]
    },
    {
      "cell_type": "code",
      "metadata": {
        "colab": {
          "base_uri": "https://localhost:8080/",
          "height": 295
        },
        "id": "81OooCox6WAp",
        "outputId": "de9d0904-afd0-46bb-8f9b-6c9eeaa35c15"
      },
      "source": [
        "# plot of mae\n",
        "import matplotlib.pyplot as plt\n",
        "plt.plot(history.history['mae'])\n",
        "plt.plot(history.history['val_mae'])\n",
        "plt.title('MAE')\n",
        "plt.ylabel('mae')\n",
        "plt.xlabel('epoch')\n",
        "plt.legend(['train', 'test'], loc='upper left')\n",
        "plt.show()"
      ],
      "execution_count": null,
      "outputs": [
        {
          "output_type": "display_data",
          "data": {
            "image/png": "[encoded data removed]",
            "text/plain": [
              "<Figure size 432x288 with 1 Axes>"
            ]
          },
          "metadata": {
            "tags": [],
            "needs_background": "light"
          }
        }
      ]
    },
    {
      "cell_type": "code",
      "metadata": {
        "colab": {
          "base_uri": "https://localhost:8080/",
          "height": 295
        },
        "id": "LgHjyr4e6X79",
        "outputId": "8e5e7d2a-f475-4dab-d418-2ede82c05e2c"
      },
      "source": [
        "# plot of loss\n",
        "plt.plot(history.history['loss'])\n",
        "plt.plot(history.history['val_loss'])\n",
        "plt.title('Model Loss')\n",
        "plt.ylabel('loss')\n",
        "plt.xlabel('epoch')\n",
        "plt.legend(['train', 'test'], loc='upper left')\n",
        "plt.show()"
      ],
      "execution_count": null,
      "outputs": [
        {
          "output_type": "display_data",
          "data": {
            "image/png": "[encoded data removed]",
            "text/plain": [
              "<Figure size 432x288 with 1 Axes>"
            ]
          },
          "metadata": {
            "tags": [],
            "needs_background": "light"
          }
        }
      ]
    }
  ]
}